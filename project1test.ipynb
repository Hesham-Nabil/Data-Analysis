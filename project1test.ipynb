{
 "cells": [
  {
   "cell_type": "code",
   "execution_count": null,
   "metadata": {},
   "outputs": [],
   "source": [
    "# Import necessary libraries\n",
    "import pandas as pd\n",
    "import numpy as np\n",
    "import matplotlib.pyplot as plt\n",
    "import seaborn as sns\n",
    "from scipy.optimize import curve_fit\n",
    "from scipy.fft import fft, fftfreq\n",
    "import statsmodels.api as sm\n",
    "from sklearn.utils import resample\n"
   ]
  },
  {
   "cell_type": "code",
   "execution_count": null,
   "metadata": {},
   "outputs": [],
   "source": [
    "# Load the dataset\n",
    "file_path = 'TSLA.csv'  # File path for Tesla's historical stock prices\n",
    "df = pd.read_csv(file_path, parse_dates=['Date'], index_col='Date')\n",
    "\n",
    "# Display dataset overview\n",
    "print(\"Dataset Preview:\")\n",
    "print(df.head())\n",
    "print(\"\\nDataset Information:\")\n",
    "df.info()\n",
    "\n",
    "# Check for missing values\n",
    "missing_values = df.isnull().sum()\n",
    "print(\"\\nMissing Values:\")\n",
    "print(missing_values)\n"
   ]
  },
  {
   "cell_type": "code",
   "execution_count": null,
   "metadata": {},
   "outputs": [],
   "source": [
    "# Ensure the Date column is in datetime format\n",
    "df['Date'] = df.index\n",
    "df['Date'] = pd.to_datetime(df['Date'])\n",
    "\n",
    "# Extract Year and Month for further analysis\n",
    "df['Year'] = df['Date'].dt.year\n",
    "df['Month'] = df['Date'].dt.month\n",
    "\n",
    "# Confirm data types\n",
    "print(\"\\nData Types:\")\n",
    "print(df.dtypes)\n"
   ]
  }
 ],
 "metadata": {
  "language_info": {
   "name": "python"
  }
 },
 "nbformat": 4,
 "nbformat_minor": 2
}
